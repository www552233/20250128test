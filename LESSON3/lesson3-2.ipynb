{
 "cells": [
  {
   "cell_type": "markdown",
   "metadata": {},
   "source": [
    "#單行文字\n",
    "大年初一，月亮進入水瓶座，帶來創新與自由的能量，為新年的開始注入一股突破與希望的力量！同時，水星與月亮合相，提升了表達與溝通的能力，冥王星的參與更讓這一天充滿了改變與重生的契機"
   ]
  },
  {
   "cell_type": "code",
   "execution_count": 3,
   "metadata": {},
   "outputs": [
    {
     "ename": "SyntaxError",
     "evalue": "invalid character '，' (U+FF0C) (2291692597.py, line 1)",
     "output_type": "error",
     "traceback": [
      "\u001b[0;36m  Cell \u001b[0;32mIn[3], line 1\u001b[0;36m\u001b[0m\n\u001b[0;31m    大年初一，月亮進入水瓶座，帶來創新與自由的能量，為新年的開始注入一股突破與希望的力量！同時，水星與月亮合相，提升了表達與溝通的能力，冥王星的參與更讓這一天充滿了改變與重生的契機\u001b[0m\n\u001b[0m        ^\u001b[0m\n\u001b[0;31mSyntaxError\u001b[0m\u001b[0;31m:\u001b[0m invalid character '，' (U+FF0C)\n"
     ]
    }
   ],
   "source": [
    "#會錯誤是因為文字沒有加單引號\n",
    "大年初一，月亮進入水瓶座，帶來創新與自由的能量，為新年的開始注入一股突破與希望的力量！同時，水星與月亮合相，提升了表達與溝通的能力，冥王星的參與更讓這一天充滿了改變與重生的契機"
   ]
  },
  {
   "cell_type": "code",
   "execution_count": 4,
   "metadata": {},
   "outputs": [
    {
     "data": {
      "text/plain": [
       "'大年初一，月亮進入水瓶座，帶來創新與自由的能量，為新年的開始注入一股突破與希望的力量！同時，水星與月亮合相，提升了表達與溝通的能力，冥王星的參與更讓這一天充滿了改變與重生的契機'"
      ]
     },
     "execution_count": 4,
     "metadata": {},
     "output_type": "execute_result"
    }
   ],
   "source": [
    "#正確,文字一定要加上單引號,此印出來的資料會帶有格式''\n",
    "'大年初一，月亮進入水瓶座，帶來創新與自由的能量，為新年的開始注入一股突破與希望的力量！同時，水星與月亮合相，提升了表達與溝通的能力，冥王星的參與更讓這一天充滿了改變與重生的契機'"
   ]
  },
  {
   "cell_type": "code",
   "execution_count": 5,
   "metadata": {},
   "outputs": [
    {
     "name": "stdout",
     "output_type": "stream",
     "text": [
      "大年初一，月亮進入水瓶座，帶來創新與自由的能量，為新年的開始注入一股突破與希望的力量！同時，水星與月亮合相，提升了表達與溝通的能力，冥王星的參與更讓這一天充滿了改變與重生的契機\n"
     ]
    }
   ],
   "source": [
    "#不帶格式,要用PRINT\n",
    "print('大年初一，月亮進入水瓶座，帶來創新與自由的能量，為新年的開始注入一股突破與希望的力量！同時，水星與月亮合相，提升了表達與溝通的能力，冥王星的參與更讓這一天充滿了改變與重生的契機')"
   ]
  },
  {
   "cell_type": "code",
   "execution_count": 13,
   "metadata": {},
   "outputs": [
    {
     "data": {
      "text/plain": [
       "'大年初一，月亮進入\"水瓶座，帶來創新與自由的能量，為新年的開始注入一股突破與希望'"
      ]
     },
     "execution_count": 13,
     "metadata": {},
     "output_type": "execute_result"
    }
   ],
   "source": [
    "#變數表達-1\n",
    "A='大年初一，月亮進入\"水瓶座，帶來創新與自由的能量，為新年的開始注入一股突破與希望'\n",
    "A"
   ]
  },
  {
   "cell_type": "code",
   "execution_count": 10,
   "metadata": {},
   "outputs": [
    {
     "data": {
      "text/plain": [
       "'大年初一，月亮進入水瓶座，帶來創新與自由的能量，為新年的開始注入一股突破與希望'"
      ]
     },
     "execution_count": 10,
     "metadata": {},
     "output_type": "execute_result"
    }
   ],
   "source": [
    "#換行\\&變數表達-2\n",
    "#換行後不能隨意加上空格,要整行都是齊平\n",
    "A='大年初一，月亮進入水瓶座，帶來創新與自由的能量，\\\n",
    "為新年的開始注入\\\n",
    "一股突破與希望'\n",
    "A"
   ]
  }
 ],
 "metadata": {
  "kernelspec": {
   "display_name": "Python 3",
   "language": "python",
   "name": "python3"
  },
  "language_info": {
   "codemirror_mode": {
    "name": "ipython",
    "version": 3
   },
   "file_extension": ".py",
   "mimetype": "text/x-python",
   "name": "python",
   "nbconvert_exporter": "python",
   "pygments_lexer": "ipython3",
   "version": "3.10.16"
  }
 },
 "nbformat": 4,
 "nbformat_minor": 2
}
