{
 "cells": [
  {
   "cell_type": "markdown",
   "metadata": {},
   "source": [
    "#單行文字\n",
    "大年初一，月亮進入水瓶座，帶來創新與自由的能量，為新年的開始注入一股突破與希望的力量！同時，水星與月亮合相，提升了表達與溝通的能力，冥王星的參與更讓這一天充滿了改變與重生的契機"
   ]
  },
  {
   "cell_type": "code",
   "execution_count": 3,
   "metadata": {},
   "outputs": [
    {
     "ename": "SyntaxError",
     "evalue": "invalid character '，' (U+FF0C) (2291692597.py, line 1)",
     "output_type": "error",
     "traceback": [
      "\u001b[0;36m  Cell \u001b[0;32mIn[3], line 1\u001b[0;36m\u001b[0m\n\u001b[0;31m    大年初一，月亮進入水瓶座，帶來創新與自由的能量，為新年的開始注入一股突破與希望的力量！同時，水星與月亮合相，提升了表達與溝通的能力，冥王星的參與更讓這一天充滿了改變與重生的契機\u001b[0m\n\u001b[0m        ^\u001b[0m\n\u001b[0;31mSyntaxError\u001b[0m\u001b[0;31m:\u001b[0m invalid character '，' (U+FF0C)\n"
     ]
    }
   ],
   "source": [
    "#會錯誤是因為文字沒有加單引號\n",
    "大年初一，月亮進入水瓶座，帶來創新與自由的能量，為新年的開始注入一股突破與希望的力量！同時，水星與月亮合相，提升了表達與溝通的能力，冥王星的參與更讓這一天充滿了改變與重生的契機"
   ]
  },
  {
   "cell_type": "code",
   "execution_count": 4,
   "metadata": {},
   "outputs": [
    {
     "data": {
      "text/plain": [
       "'大年初一，月亮進入水瓶座，帶來創新與自由的能量，為新年的開始注入一股突破與希望的力量！同時，水星與月亮合相，提升了表達與溝通的能力，冥王星的參與更讓這一天充滿了改變與重生的契機'"
      ]
     },
     "execution_count": 4,
     "metadata": {},
     "output_type": "execute_result"
    }
   ],
   "source": [
    "#正確,文字一定要加上單引號,此印出來的資料會帶有格式''\n",
    "'大年初一，月亮進入水瓶座，帶來創新與自由的能量，為新年的開始注入一股突破與希望的力量！同時，水星與月亮合相，提升了表達與溝通的能力，冥王星的參與更讓這一天充滿了改變與重生的契機'"
   ]
  },
  {
   "cell_type": "code",
   "execution_count": 5,
   "metadata": {},
   "outputs": [
    {
     "name": "stdout",
     "output_type": "stream",
     "text": [
      "大年初一，月亮進入水瓶座，帶來創新與自由的能量，為新年的開始注入一股突破與希望的力量！同時，水星與月亮合相，提升了表達與溝通的能力，冥王星的參與更讓這一天充滿了改變與重生的契機\n"
     ]
    }
   ],
   "source": [
    "#不帶格式,要用PRINT\n",
    "print('大年初一，月亮進入水瓶座，帶來創新與自由的能量，為新年的開始注入一股突破與希望的力量！同時，水星與月亮合相，提升了表達與溝通的能力，冥王星的參與更讓這一天充滿了改變與重生的契機')"
   ]
  },
  {
   "cell_type": "code",
   "execution_count": 13,
   "metadata": {},
   "outputs": [
    {
     "data": {
      "text/plain": [
       "'大年初一，月亮進入\"水瓶座，帶來創新與自由的能量，為新年的開始注入一股突破與希望'"
      ]
     },
     "execution_count": 13,
     "metadata": {},
     "output_type": "execute_result"
    }
   ],
   "source": [
    "#變數表達-1\n",
    "A='大年初一，月亮進入\"水瓶座，帶來創新與自由的能量，為新年的開始注入一股突破與希望'\n",
    "A"
   ]
  },
  {
   "cell_type": "code",
   "execution_count": 10,
   "metadata": {},
   "outputs": [
    {
     "data": {
      "text/plain": [
       "'大年初一，月亮進入水瓶座，帶來創新與自由的能量，為新年的開始注入一股突破與希望'"
      ]
     },
     "execution_count": 10,
     "metadata": {},
     "output_type": "execute_result"
    }
   ],
   "source": [
    "#換行\\&變數表達-2\n",
    "#換行後不能隨意加上空格,要整行都是齊平\n",
    "A='大年初一，月亮進入水瓶座，帶來創新與自由的能量，\\\n",
    "為新年的開始注入\\\n",
    "一股突破與希望'\n",
    "A"
   ]
  },
  {
   "cell_type": "code",
   "execution_count": 1,
   "metadata": {},
   "outputs": [
    {
     "data": {
      "text/plain": [
       "'大年初一，月亮進入水瓶座，帶來創新與自由的能量，\\n為新年的開始注入一股突破與希望的力量！同時，水星與月亮合相，\\n提升了表達與溝通的能力，冥王星的參與更讓這一天充滿了改變與重生的契機。\\n命理師艾菲爾指出，在這充滿喜慶的日子裡，可以借助星象的力量，\\n為自己許下一個充滿正能量的願望，幫助新的一年一切順利，好運滾滾來！\\n以下是針對十二生肖的許願指南，為你點亮2025年的幸福與希望'"
      ]
     },
     "execution_count": 1,
     "metadata": {},
     "output_type": "execute_result"
    }
   ],
   "source": [
    "#換行-2\n",
    "#加上三個單引號或雙引號 ,顯示出來會帶有\\n ,若不要看到格式要用PRINT\n",
    "\"\"\"大年初一，月亮進入水瓶座，帶來創新與自由的能量，\n",
    "為新年的開始注入一股突破與希望的力量！同時，水星與月亮合相，\n",
    "提升了表達與溝通的能力，冥王星的參與更讓這一天充滿了改變與重生的契機。\n",
    "命理師艾菲爾指出，在這充滿喜慶的日子裡，可以借助星象的力量，\n",
    "為自己許下一個充滿正能量的願望，幫助新的一年一切順利，好運滾滾來！\n",
    "以下是針對十二生肖的許願指南，為你點亮2025年的幸福與希望\"\"\""
   ]
  },
  {
   "cell_type": "code",
   "execution_count": 2,
   "metadata": {},
   "outputs": [
    {
     "name": "stdout",
     "output_type": "stream",
     "text": [
      "大年初一，月亮進入水瓶座，帶來創新與自由的能量，\n",
      "為新年的開始注入一股突破與希望的力量！同時，水星與月亮合相，\n",
      "提升了表達與溝通的能力，冥王星的參與更讓這一天充滿了改變與重生的契機。\n",
      "命理師艾菲爾指出，在這充滿喜慶的日子裡，可以借助星象的力量，\n",
      "為自己許下一個充滿正能量的願望，幫助新的一年一切順利，好運滾滾來！\n",
      "以下是針對十二生肖的許願指南，為你點亮2025年的幸福與希望\n"
     ]
    }
   ],
   "source": [
    "#換行-2\n",
    "#加上三個單引號或雙引號 ,顯示出來會帶有\\n ,若不要看到格式要用PRINT如下文\n",
    "print(\"\"\"大年初一，月亮進入水瓶座，帶來創新與自由的能量，\n",
    "為新年的開始注入一股突破與希望的力量！同時，水星與月亮合相，\n",
    "提升了表達與溝通的能力，冥王星的參與更讓這一天充滿了改變與重生的契機。\n",
    "命理師艾菲爾指出，在這充滿喜慶的日子裡，可以借助星象的力量，\n",
    "為自己許下一個充滿正能量的願望，幫助新的一年一切順利，好運滾滾來！\n",
    "以下是針對十二生肖的許願指南，為你點亮2025年的幸福與希望\"\"\")"
   ]
  },
  {
   "cell_type": "code",
   "execution_count": 4,
   "metadata": {},
   "outputs": [
    {
     "data": {
      "text/plain": [
       "('蘋果5個', '香蕉3根', '橘子2顆')"
      ]
     },
     "execution_count": 4,
     "metadata": {},
     "output_type": "execute_result"
    }
   ],
   "source": [
    "#字串插補\n",
    "#字串+運算子,字串的運算要把數值轉為字串才可以運算,str\n",
    "#範例:蘋果5個,香蕉3根,橘子2顆\n",
    "APPLE=5\n",
    "BANNA=3\n",
    "ORANGE=2\n",
    "\"蘋果\"+str(APPLE)+\"個\",\"香蕉\"+str(BANNA)+\"根\",\"橘子\"+str(ORANGE)+\"顆\"\n"
   ]
  },
  {
   "cell_type": "code",
   "execution_count": 7,
   "metadata": {},
   "outputs": [
    {
     "data": {
      "text/plain": [
       "'蘋果5個,香蕉3根,橘子2顆'"
      ]
     },
     "execution_count": 7,
     "metadata": {},
     "output_type": "execute_result"
    }
   ],
   "source": [
    "#字串插補-2\n",
    "#加上f\"內文...\",裡面如有變數要再加上{},雙或單引號只需加在前後文,內文不需要額外加單雙引號\n",
    "#範例:蘋果5個,香蕉3根,橘子2顆\n",
    "APPLE=5\n",
    "BANNA=3\n",
    "ORANGE=2\n",
    "m=f\"蘋果{APPLE}個,香蕉{BANNA}根,橘子{ORANGE}顆\"\n",
    "m"
   ]
  }
 ],
 "metadata": {
  "kernelspec": {
   "display_name": "Python 3",
   "language": "python",
   "name": "python3"
  },
  "language_info": {
   "codemirror_mode": {
    "name": "ipython",
    "version": 3
   },
   "file_extension": ".py",
   "mimetype": "text/x-python",
   "name": "python",
   "nbconvert_exporter": "python",
   "pygments_lexer": "ipython3",
   "version": "3.10.16"
  }
 },
 "nbformat": 4,
 "nbformat_minor": 2
}
