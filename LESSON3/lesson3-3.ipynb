{
 "cells": [
  {
   "cell_type": "markdown",
   "metadata": {},
   "source": [
    "##input 運算子"
   ]
  },
  {
   "cell_type": "code",
   "execution_count": 16,
   "metadata": {},
   "outputs": [
    {
     "data": {
      "text/plain": [
       "24.0"
      ]
     },
     "execution_count": 16,
     "metadata": {},
     "output_type": "execute_result"
    }
   ],
   "source": [
    "#梯形面積,上加下*高/2\n",
    "t=int(input(\"輸入數值\"))\n",
    "b=int(input(\"輸入數值\"))\n",
    "h=int(input(\"輸入數值\"))\n",
    "a=(t+b)*h/2\n",
    "a"
   ]
  },
  {
   "cell_type": "code",
   "execution_count": 23,
   "metadata": {},
   "outputs": [
    {
     "data": {
      "text/plain": [
       "'面積:27.0'"
      ]
     },
     "execution_count": 23,
     "metadata": {},
     "output_type": "execute_result"
    }
   ],
   "source": [
    "#梯形面積,上加下*高/2\n",
    "t=int(input(\"輸入上\"))\n",
    "b=int(input(\"輸入下\"))\n",
    "h=int(input(\"輸入高\"))\n",
    "a=(t+b)*h/2\n",
    "f'上:{t},下:{b},高:{h}'\n",
    "f'面積:{a}'\n",
    "\n"
   ]
  }
 ],
 "metadata": {
  "kernelspec": {
   "display_name": "Python 3",
   "language": "python",
   "name": "python3"
  },
  "language_info": {
   "codemirror_mode": {
    "name": "ipython",
    "version": 3
   },
   "file_extension": ".py",
   "mimetype": "text/x-python",
   "name": "python",
   "nbconvert_exporter": "python",
   "pygments_lexer": "ipython3",
   "version": "3.10.16"
  }
 },
 "nbformat": 4,
 "nbformat_minor": 2
}
