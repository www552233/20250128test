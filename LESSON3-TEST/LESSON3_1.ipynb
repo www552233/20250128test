{
 "cells": [
  {
   "cell_type": "code",
   "execution_count": 2,
   "id": "d50203d3",
   "metadata": {},
   "outputs": [
    {
     "data": {
      "text/plain": [
       "25"
      ]
     },
     "execution_count": 2,
     "metadata": {},
     "output_type": "execute_result"
    }
   ],
   "source": [
    "N=5\n",
    "N**=2\n",
    "N"
   ]
  },
  {
   "cell_type": "code",
   "execution_count": 4,
   "id": "6bb5dcbf",
   "metadata": {},
   "outputs": [
    {
     "data": {
      "text/plain": [
       "45"
      ]
     },
     "execution_count": 4,
     "metadata": {},
     "output_type": "execute_result"
    }
   ],
   "source": [
    "N+=10\n",
    "N"
   ]
  },
  {
   "cell_type": "code",
   "execution_count": 6,
   "id": "0bdf7cdc",
   "metadata": {},
   "outputs": [
    {
     "name": "stdout",
     "output_type": "stream",
     "text": [
      "AAABBBB\n"
     ]
    }
   ],
   "source": [
    "'AAABBBB'\n",
    "print('AAABBBB')"
   ]
  },
  {
   "cell_type": "code",
   "execution_count": null,
   "id": "ebb4f328",
   "metadata": {},
   "outputs": [
    {
     "data": {
      "text/plain": [
       "'500甜」獲「2甜」榮譽的彰化「不二坊蛋黃酥」之亂提前上演，今天上午排隊隊伍即達40公尺；    今天也是「不二坊」        開放中秋節電話預購的'"
      ]
     },
     "execution_count": 8,
     "metadata": {},
     "output_type": "execute_result"
    }
   ],
   "source": [
    "'500甜」獲「2甜」榮譽的彰化「不二坊蛋黃酥」\\\n",
    "之亂提前上演，今天上午排隊隊伍即達40公尺；\\\n",
    "今天也是「不二坊」\\\n",
    "開放中秋節電話預購的'"
   ]
  },
  {
   "cell_type": "code",
   "execution_count": 11,
   "id": "cbabbf93",
   "metadata": {},
   "outputs": [
    {
     "name": "stdout",
     "output_type": "stream",
     "text": [
      "500甜」獲「2甜」榮譽的彰化「不二坊蛋黃酥」之亂提前上演，\n",
      "今天上午排隊隊伍即達40公尺；\n",
      "今天也是「不二坊」開放中秋節電話預購的\n"
     ]
    }
   ],
   "source": [
    "print(\"\"\"500甜」獲「2甜」榮譽的彰化「不二坊蛋黃酥」之亂提前上演，\n",
    "今天上午排隊隊伍即達40公尺；\n",
    "今天也是「不二坊」開放中秋節電話預購的\"\"\")"
   ]
  },
  {
   "cell_type": "code",
   "execution_count": 3,
   "id": "e08a8934",
   "metadata": {},
   "outputs": [
    {
     "name": "stdout",
     "output_type": "stream",
     "text": [
      "蘋果5個+香蕉3個\n"
     ]
    }
   ],
   "source": [
    "APPLE=5\n",
    "BANNA=3\n",
    "SENTENCE=f'蘋果{APPLE}個+香蕉{BANNA}個'\n",
    "SENTENCE\n",
    "print(SENTENCE)"
   ]
  }
 ],
 "metadata": {
  "kernelspec": {
   "display_name": "Python 3",
   "language": "python",
   "name": "python3"
  },
  "language_info": {
   "codemirror_mode": {
    "name": "ipython",
    "version": 3
   },
   "file_extension": ".py",
   "mimetype": "text/x-python",
   "name": "python",
   "nbconvert_exporter": "python",
   "pygments_lexer": "ipython3",
   "version": "3.10.18"
  }
 },
 "nbformat": 4,
 "nbformat_minor": 5
}
