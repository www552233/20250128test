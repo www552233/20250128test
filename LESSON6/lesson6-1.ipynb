{
 "cells": [
  {
   "cell_type": "code",
   "execution_count": null,
   "id": "29802b39",
   "metadata": {},
   "outputs": [
    {
     "name": "stdout",
     "output_type": "stream",
     "text": [
      "恭喜!已經存夠了,存了2個月的存歋為:256000元·\n"
     ]
    }
   ],
   "source": [
    "##小明想要存錢一輛機車,機軍每30900元,他將每月存的錢輸入,存足夠機車時,就顯示提示訊悤告知\n",
    "#while迴圈+break\n",
    "deposit=0\n",
    "month=0\n",
    "try:\n",
    " while(True):#WHILE(TRUE)## 加上TRUE的寫法較靈活,只要符合條件就可以跳出迴圈\n",
    "\n",
    "    month+=1\n",
    "    money=int(input(f\"輸入第{month}月存款:\"))\n",
    "    deposit+=money#這一段不寫會有無限迴圈\n",
    "    if deposit>=30000:#在這一段只要符合條件就會跳出迴圈,要留意IF的位置要齊上方DEPOSIT位置\n",
    "     break\n",
    " print(f\"恭喜!已經存夠了,存了{month}個月的存歋為:{deposit}元·\")#此段print空格位置要對,不然會有問題\n",
    "except Exception:\n",
    " print(\"格式錯誤\")"
   ]
  },
  {
   "cell_type": "code",
   "execution_count": null,
   "id": "5d32b0df",
   "metadata": {},
   "outputs": [],
   "source": [
    "#請輸入小寫英文字,輸出第一個字大寫的英文字,如果按q英文字,將離開應用程式\n",
    "#學字串實體方法 \n",
    "while(True):\n",
    "    stuff = input(\"請輸入小寫英文字[按q會離開]:\")\n",
    "    if stuff.upper() == 'Q':#字串實體方法 str.加上UPPER FUNTION ,表小寫會轉大寫\n",
    "        break\n",
    "    print(stuff.capitalize())#.capitalize() 這個字串的FUNTION ,表輸入者打的字第一個字都會轉大寫\n",
    "print(\"應用程式結束\")"
   ]
  },
  {
   "cell_type": "code",
   "execution_count": null,
   "id": "0d8f136b",
   "metadata": {},
   "outputs": [
    {
     "name": "stdout",
     "output_type": "stream",
     "text": [
      "請重新輸入\n",
      "81\n",
      "應用程式結束\n"
     ]
    }
   ],
   "source": [
    "'''\n",
    "docstring\n",
    "顯示:\n",
    "請輸入整數,輸入[q]離開\n",
    "輸入的格式錯誤,要求重新輸入\n",
    "奇數輸出平方\n",
    "偶數不做任何動作\n",
    "'q'要離開\n",
    "'''\n",
    "#上面的寫法表示,要描述這個文件要做什麼,在上下各加3個'''\n",
    "\n",
    "while(True):\n",
    "    value = input(\"請輸入整數,輸入[q]離開:\")\n",
    "    if value.upper() == 'Q':\n",
    "        break\n",
    "    try:\n",
    "        value_int = int(value)\n",
    "    except:\n",
    "        print(\"請重新輸入\")\n",
    "        continue###在這一段表格錯誤就跳出,請使用者繼續輸入資料,進入下個新的WHILE執行\n",
    "    if not (value_int % 2) == 0:\n",
    "        print(value_int**2)\n",
    "    \n",
    "print(\"應用程式結束\")"
   ]
  }
 ],
 "metadata": {
  "kernelspec": {
   "display_name": "Python 3",
   "language": "python",
   "name": "python3"
  },
  "language_info": {
   "codemirror_mode": {
    "name": "ipython",
    "version": 3
   },
   "file_extension": ".py",
   "mimetype": "text/x-python",
   "name": "python",
   "nbconvert_exporter": "python",
   "pygments_lexer": "ipython3",
   "version": "3.10.18"
  }
 },
 "nbformat": 4,
 "nbformat_minor": 5
}
