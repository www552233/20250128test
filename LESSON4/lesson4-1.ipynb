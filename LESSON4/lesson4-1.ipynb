{
 "cells": [
  {
   "cell_type": "markdown",
   "id": "beb81066",
   "metadata": {},
   "source": [
    "#判斷語法"
   ]
  },
  {
   "cell_type": "code",
   "execution_count": 10,
   "id": "da733875",
   "metadata": {},
   "outputs": [
    {
     "name": "stdout",
     "output_type": "stream",
     "text": [
      "300\n"
     ]
    }
   ],
   "source": [
    "#最高成績300分,eval+input ,eval會根據使用者輸入的值決定int or float\n",
    "scores=eval(input(\"請輸入分數\"))\n",
    "if scores>300:\n",
    "   scores=300\n",
    "print(scores)\n"
   ]
  }
 ],
 "metadata": {
  "kernelspec": {
   "display_name": "Python 3",
   "language": "python",
   "name": "python3"
  },
  "language_info": {
   "codemirror_mode": {
    "name": "ipython",
    "version": 3
   },
   "file_extension": ".py",
   "mimetype": "text/x-python",
   "name": "python",
   "nbconvert_exporter": "python",
   "pygments_lexer": "ipython3",
   "version": "3.10.18"
  }
 },
 "nbformat": 4,
 "nbformat_minor": 5
}
