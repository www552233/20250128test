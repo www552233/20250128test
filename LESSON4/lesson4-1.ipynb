{
 "cells": [
  {
   "cell_type": "markdown",
   "id": "beb81066",
   "metadata": {},
   "source": [
    "#判斷語法"
   ]
  },
  {
   "cell_type": "code",
   "execution_count": 10,
   "id": "da733875",
   "metadata": {},
   "outputs": [
    {
     "name": "stdout",
     "output_type": "stream",
     "text": [
      "300\n"
     ]
    }
   ],
   "source": [
    "#最高成績300分,eval+input ,eval會根據使用者輸入的值決定int or float\n",
    "scores=eval(input(\"請輸入分數\"))\n",
    "if scores>300:\n",
    "   scores=300\n",
    "print(scores)\n"
   ]
  },
  {
   "cell_type": "markdown",
   "id": "aa5e0036",
   "metadata": {},
   "source": [
    "##計算加分*1.05\n"
   ]
  },
  {
   "cell_type": "code",
   "execution_count": 10,
   "id": "123603b1",
   "metadata": {},
   "outputs": [
    {
     "name": "stdout",
     "output_type": "stream",
     "text": [
      "學生分數:231\n"
     ]
    }
   ],
   "source": [
    "#最高成績300分,eval+input ,eval會根據使用者輸入的值決定int or float\n",
    "#有符合加分條件*1.05\n",
    "#變數scores要記得加上{},取整數0.f 記得要在scores後面加上:\n",
    "scores=eval(input(\"請輸入分數\"))\n",
    "is_add=input(\"是否可以加分?請輸入(y,n)\")\n",
    "if scores>300:\n",
    "   scores=300\n",
    "if is_add==\"y\":\n",
    "   scores*=1.05\n",
    "print(f\"學生分數:{scores:.0f}\")"
   ]
  },
  {
   "cell_type": "code",
   "execution_count": 12,
   "id": "db7be391",
   "metadata": {},
   "outputs": [
    {
     "name": "stdout",
     "output_type": "stream",
     "text": [
      "學生分數:300\n"
     ]
    }
   ],
   "source": [
    "#最高成績300分,eval+input ,eval會根據使用者輸入的值決定int or float\n",
    "#有符合加分條件*1.05,加分後超過300,只能算300\n",
    "#變數scores要記得加上{},取整數0.f 記得要在scores後面加上:\n",
    "scores=eval(input(\"請輸入分數\"))\n",
    "is_add=input(\"是否可以加分?請輸入(y,n)\")\n",
    "if scores>300:\n",
    "   scores=300\n",
    "if is_add==\"y\":\n",
    "   scores*=1.05\n",
    "   if scores>300:#巢狀判斷\n",
    "      scores=300\n",
    "print(f\"學生分數:{scores:.0f}\")"
   ]
  },
  {
   "cell_type": "markdown",
   "id": "207c1224",
   "metadata": {},
   "source": [
    "#raise 錯誤"
   ]
  },
  {
   "cell_type": "code",
   "execution_count": 13,
   "id": "9bf90325",
   "metadata": {},
   "outputs": [
    {
     "name": "stdout",
     "output_type": "stream",
     "text": [
      "發生錯誤\n"
     ]
    }
   ],
   "source": [
    "#try... except...else...final...\n",
    "try:\n",
    "    raise Exception(\"無法處理\")\n",
    "except:\n",
    "    print(\"發生錯誤\")"
   ]
  },
  {
   "cell_type": "code",
   "execution_count": 14,
   "id": "1c2b3edf",
   "metadata": {},
   "outputs": [
    {
     "name": "stdout",
     "output_type": "stream",
     "text": [
      "發生錯誤:無法處理\n"
     ]
    }
   ],
   "source": [
    "#try... except...else...final...\n",
    "#告知錯誤的型態,在excep後加上 EXCEPTION\n",
    "try:\n",
    "    raise Exception(\"無法處理\")\n",
    "except Exception as e:\n",
    "    print(f\"發生錯誤:{e}\")"
   ]
  },
  {
   "cell_type": "code",
   "execution_count": 15,
   "id": "c48bad99",
   "metadata": {},
   "outputs": [
    {
     "name": "stdout",
     "output_type": "stream",
     "text": [
      "沒有錯誤\n"
     ]
    }
   ],
   "source": [
    "#try... except...else...final...\n",
    "#執行else ,沒有發生錯誤要執行的區塊\n",
    "try:\n",
    "    #raise Exception(\"無法處理\")\n",
    "    pass\n",
    "except Exception as e:\n",
    "    print(f\"發生錯誤:{e}\")\n",
    "else :\n",
    "    print(\"沒有錯誤\")"
   ]
  },
  {
   "cell_type": "code",
   "execution_count": 27,
   "id": "d303bf07",
   "metadata": {},
   "outputs": [
    {
     "name": "stdout",
     "output_type": "stream",
     "text": [
      "發生錯誤:invalid decimal literal (<string>, line 1)\n"
     ]
    }
   ],
   "source": [
    "#偵測使用者沒有輸入正確值的錯誤表達\n",
    "#money=eval(input(\"輸入金額\"))\n",
    "\n",
    "try:\n",
    "    money=eval(input(\"輸入金額\"))\n",
    "    print(money)\n",
    "except Exception as c:\n",
    "    print(f\"發生錯誤:{c}\")"
   ]
  },
  {
   "cell_type": "code",
   "execution_count": 33,
   "id": "03994cf0",
   "metadata": {},
   "outputs": [
    {
     "name": "stdout",
     "output_type": "stream",
     "text": [
      "輸入錯誤\n",
      "程式結束\n"
     ]
    }
   ],
   "source": [
    "try:\n",
    " scores=eval(input(\"請輸入分數\"))\n",
    " is_add=input(\"是否可以加分?請輸入(y,n)\")\n",
    " if scores>300:\n",
    "   scores=300\n",
    " if is_add==\"y\":\n",
    "   scores*=1.05\n",
    "   if scores>300:#巢狀判斷\n",
    "      scores=300\n",
    " print(f\"學生分數:{scores:.0f}\")\n",
    "except:\n",
    "  print(\"輸入錯誤\")\n",
    "print(\"程式結束\")"
   ]
  },
  {
   "cell_type": "code",
   "execution_count": 40,
   "id": "ddd81f2f",
   "metadata": {},
   "outputs": [
    {
     "name": "stdout",
     "output_type": "stream",
     "text": [
      "不及格\n",
      "丁\n",
      "輸入分數:40\n"
     ]
    }
   ],
   "source": [
    "scores=eval(input(\"請輸入分數\"))\n",
    "if scores>=60:\n",
    "    print(\"及格\")\n",
    "    if scores >=90:#第二組判斷\n",
    "     print(\"優\")\n",
    "    else:\n",
    "     print(\"一般\")\n",
    "else:\n",
    "    print(\"不及格\")\n",
    "    if scores>=50:#落在else裡面的 if判斷\n",
    "     print(\"丙\")\n",
    "    else:\n",
    "     print(\"丁\")\n",
    "\n",
    "print(f\"輸入分數:{scores}\")"
   ]
  },
  {
   "cell_type": "code",
   "execution_count": 46,
   "id": "f6b80670",
   "metadata": {},
   "outputs": [
    {
     "name": "stdout",
     "output_type": "stream",
     "text": [
      "優\n"
     ]
    }
   ],
   "source": [
    "scores=eval(input(\"請輸入分數\"))\n",
    "if scores>=90:\n",
    "    print(\"優\")\n",
    "else:#落在此區表示進入89以下區判斷\n",
    " if scores >=80:\n",
    "    print(\"乙\")\n",
    " else:\n",
    "    if scores>=70:\n",
    "     print(\"丙\")\n",
    "    else:\n",
    "     print(\"丁\")"
   ]
  },
  {
   "cell_type": "code",
   "execution_count": 48,
   "id": "c369b38e",
   "metadata": {},
   "outputs": [
    {
     "name": "stdout",
     "output_type": "stream",
     "text": [
      "丁\n"
     ]
    }
   ],
   "source": [
    "#if else if 整合寫法 if elif\n",
    "scores=eval(input(\"請輸入分數\"))\n",
    "if scores>=90:\n",
    "    print(\"優\")\n",
    "elif scores >=80:\n",
    "    print(\"乙\")\n",
    "elif scores>=70:\n",
    "     print(\"丙\")\n",
    "else:\n",
    "     print(\"丁\")"
   ]
  }
 ],
 "metadata": {
  "kernelspec": {
   "display_name": "Python 3",
   "language": "python",
   "name": "python3"
  },
  "language_info": {
   "codemirror_mode": {
    "name": "ipython",
    "version": 3
   },
   "file_extension": ".py",
   "mimetype": "text/x-python",
   "name": "python",
   "nbconvert_exporter": "python",
   "pygments_lexer": "ipython3",
   "version": "3.10.18"
  }
 },
 "nbformat": 4,
 "nbformat_minor": 5
}
